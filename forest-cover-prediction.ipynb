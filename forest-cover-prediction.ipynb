{
 "cells": [
  {
   "cell_type": "markdown",
   "id": "73a22c82",
   "metadata": {
    "papermill": {
     "duration": 0.005787,
     "end_time": "2024-06-27T04:54:01.487221",
     "exception": false,
     "start_time": "2024-06-27T04:54:01.481434",
     "status": "completed"
    },
    "tags": []
   },
   "source": [
    "# **Forest Cover Prediction Analysis**"
   ]
  },
  {
   "cell_type": "markdown",
   "id": "52f8fd1c",
   "metadata": {
    "papermill": {
     "duration": 0.004849,
     "end_time": "2024-06-27T04:54:01.497416",
     "exception": false,
     "start_time": "2024-06-27T04:54:01.492567",
     "status": "completed"
    },
    "tags": []
   },
   "source": [
    "This project involves a comprehensive analysis and modeling process, utilizing various machine learning techniques to predict forest cover types based on cartographic information. Each part of the project builds upon the previous steps, culminating in the creation and evaluation of a robust predictive model."
   ]
  },
  {
   "cell_type": "markdown",
   "id": "92992b2e",
   "metadata": {
    "papermill": {
     "duration": 0.004803,
     "end_time": "2024-06-27T04:54:01.507461",
     "exception": false,
     "start_time": "2024-06-27T04:54:01.502658",
     "status": "completed"
    },
    "tags": []
   },
   "source": [
    "## Import Necessary Libraries"
   ]
  },
  {
   "cell_type": "code",
   "execution_count": 1,
   "id": "174264c2",
   "metadata": {
    "_cell_guid": "b1076dfc-b9ad-4769-8c92-a6c4dae69d19",
    "_uuid": "8f2839f25d086af736a60e9eeb907d3b93b6e0e5",
    "execution": {
     "iopub.execute_input": "2024-06-27T04:54:01.520109Z",
     "iopub.status.busy": "2024-06-27T04:54:01.519260Z",
     "iopub.status.idle": "2024-06-27T04:54:03.873846Z",
     "shell.execute_reply": "2024-06-27T04:54:03.872741Z"
    },
    "papermill": {
     "duration": 2.363879,
     "end_time": "2024-06-27T04:54:03.876494",
     "exception": false,
     "start_time": "2024-06-27T04:54:01.512615",
     "status": "completed"
    },
    "tags": []
   },
   "outputs": [],
   "source": [
    "# Import necessary packages\n",
    "\n",
    "import numpy as np \n",
    "import pandas as pd \n",
    "import matplotlib.pyplot as plt\n",
    "from sklearn.model_selection import train_test_split\n",
    "from sklearn.preprocessing import OneHotEncoder\n",
    "from sklearn.linear_model import LogisticRegression\n",
    "from sklearn.tree import DecisionTreeClassifier\n",
    "from sklearn.ensemble import RandomForestClassifier\n",
    "from sklearn.metrics import classification_report, confusion_matrix"
   ]
  },
  {
   "cell_type": "markdown",
   "id": "6b3b8ddf",
   "metadata": {
    "papermill": {
     "duration": 0.004796,
     "end_time": "2024-06-27T04:54:03.886514",
     "exception": false,
     "start_time": "2024-06-27T04:54:03.881718",
     "status": "completed"
    },
    "tags": []
   },
   "source": [
    "## Loading Data; Preliminary Analysis"
   ]
  },
  {
   "cell_type": "code",
   "execution_count": 2,
   "id": "5eca95c8",
   "metadata": {
    "execution": {
     "iopub.execute_input": "2024-06-27T04:54:03.898214Z",
     "iopub.status.busy": "2024-06-27T04:54:03.897660Z",
     "iopub.status.idle": "2024-06-27T04:54:03.972305Z",
     "shell.execute_reply": "2024-06-27T04:54:03.971306Z"
    },
    "papermill": {
     "duration": 0.083136,
     "end_time": "2024-06-27T04:54:03.974652",
     "exception": false,
     "start_time": "2024-06-27T04:54:03.891516",
     "status": "completed"
    },
    "tags": []
   },
   "outputs": [
    {
     "data": {
      "text/html": [
       "<div>\n",
       "<style scoped>\n",
       "    .dataframe tbody tr th:only-of-type {\n",
       "        vertical-align: middle;\n",
       "    }\n",
       "\n",
       "    .dataframe tbody tr th {\n",
       "        vertical-align: top;\n",
       "    }\n",
       "\n",
       "    .dataframe thead th {\n",
       "        text-align: right;\n",
       "    }\n",
       "</style>\n",
       "<table border=\"1\" class=\"dataframe\">\n",
       "  <thead>\n",
       "    <tr style=\"text-align: right;\">\n",
       "      <th></th>\n",
       "      <th>Elevation</th>\n",
       "      <th>Aspect</th>\n",
       "      <th>Slope</th>\n",
       "      <th>Horizontal_Distance_To_Hydrology</th>\n",
       "      <th>Vertical_Distance_To_Hydrology</th>\n",
       "      <th>Horizontal_Distance_To_Roadways</th>\n",
       "      <th>Hillshade_9am</th>\n",
       "      <th>Hillshade_Noon</th>\n",
       "      <th>Hillshade_3pm</th>\n",
       "      <th>Horizontal_Distance_To_Fire_Points</th>\n",
       "      <th>Wilderness_Area</th>\n",
       "      <th>Soil_Type</th>\n",
       "      <th>Cover_Type</th>\n",
       "    </tr>\n",
       "  </thead>\n",
       "  <tbody>\n",
       "    <tr>\n",
       "      <th>0</th>\n",
       "      <td>2596</td>\n",
       "      <td>51</td>\n",
       "      <td>3</td>\n",
       "      <td>258</td>\n",
       "      <td>0</td>\n",
       "      <td>510</td>\n",
       "      <td>221</td>\n",
       "      <td>232</td>\n",
       "      <td>148</td>\n",
       "      <td>6279</td>\n",
       "      <td>Rawah</td>\n",
       "      <td>29</td>\n",
       "      <td>5</td>\n",
       "    </tr>\n",
       "    <tr>\n",
       "      <th>1</th>\n",
       "      <td>2590</td>\n",
       "      <td>56</td>\n",
       "      <td>2</td>\n",
       "      <td>212</td>\n",
       "      <td>-6</td>\n",
       "      <td>390</td>\n",
       "      <td>220</td>\n",
       "      <td>235</td>\n",
       "      <td>151</td>\n",
       "      <td>6225</td>\n",
       "      <td>Rawah</td>\n",
       "      <td>29</td>\n",
       "      <td>5</td>\n",
       "    </tr>\n",
       "    <tr>\n",
       "      <th>2</th>\n",
       "      <td>2804</td>\n",
       "      <td>139</td>\n",
       "      <td>9</td>\n",
       "      <td>268</td>\n",
       "      <td>65</td>\n",
       "      <td>3180</td>\n",
       "      <td>234</td>\n",
       "      <td>238</td>\n",
       "      <td>135</td>\n",
       "      <td>6121</td>\n",
       "      <td>Rawah</td>\n",
       "      <td>12</td>\n",
       "      <td>2</td>\n",
       "    </tr>\n",
       "    <tr>\n",
       "      <th>3</th>\n",
       "      <td>2785</td>\n",
       "      <td>155</td>\n",
       "      <td>18</td>\n",
       "      <td>242</td>\n",
       "      <td>118</td>\n",
       "      <td>3090</td>\n",
       "      <td>238</td>\n",
       "      <td>238</td>\n",
       "      <td>122</td>\n",
       "      <td>6211</td>\n",
       "      <td>Rawah</td>\n",
       "      <td>30</td>\n",
       "      <td>2</td>\n",
       "    </tr>\n",
       "    <tr>\n",
       "      <th>4</th>\n",
       "      <td>2595</td>\n",
       "      <td>45</td>\n",
       "      <td>2</td>\n",
       "      <td>153</td>\n",
       "      <td>-1</td>\n",
       "      <td>391</td>\n",
       "      <td>220</td>\n",
       "      <td>234</td>\n",
       "      <td>150</td>\n",
       "      <td>6172</td>\n",
       "      <td>Rawah</td>\n",
       "      <td>29</td>\n",
       "      <td>5</td>\n",
       "    </tr>\n",
       "  </tbody>\n",
       "</table>\n",
       "</div>"
      ],
      "text/plain": [
       "   Elevation  Aspect  Slope  Horizontal_Distance_To_Hydrology  \\\n",
       "0       2596      51      3                               258   \n",
       "1       2590      56      2                               212   \n",
       "2       2804     139      9                               268   \n",
       "3       2785     155     18                               242   \n",
       "4       2595      45      2                               153   \n",
       "\n",
       "   Vertical_Distance_To_Hydrology  Horizontal_Distance_To_Roadways  \\\n",
       "0                               0                              510   \n",
       "1                              -6                              390   \n",
       "2                              65                             3180   \n",
       "3                             118                             3090   \n",
       "4                              -1                              391   \n",
       "\n",
       "   Hillshade_9am  Hillshade_Noon  Hillshade_3pm  \\\n",
       "0            221             232            148   \n",
       "1            220             235            151   \n",
       "2            234             238            135   \n",
       "3            238             238            122   \n",
       "4            220             234            150   \n",
       "\n",
       "   Horizontal_Distance_To_Fire_Points Wilderness_Area  Soil_Type  Cover_Type  \n",
       "0                                6279           Rawah         29           5  \n",
       "1                                6225           Rawah         29           5  \n",
       "2                                6121           Rawah         12           2  \n",
       "3                                6211           Rawah         30           2  \n",
       "4                                6172           Rawah         29           5  "
      ]
     },
     "execution_count": 2,
     "metadata": {},
     "output_type": "execute_result"
    }
   ],
   "source": [
    "# Load the dataset into a DataFrame\n",
    "fc = pd.read_csv('../input/forest-cover/forest_cover.txt', delimiter='\\t')\n",
    "\n",
    "# Display the first 5 rows of the DataFrame\n",
    "fc.head()"
   ]
  },
  {
   "cell_type": "code",
   "execution_count": 3,
   "id": "83a5a1cf",
   "metadata": {
    "execution": {
     "iopub.execute_input": "2024-06-27T04:54:03.987016Z",
     "iopub.status.busy": "2024-06-27T04:54:03.986660Z",
     "iopub.status.idle": "2024-06-27T04:54:03.991788Z",
     "shell.execute_reply": "2024-06-27T04:54:03.990702Z"
    },
    "papermill": {
     "duration": 0.013933,
     "end_time": "2024-06-27T04:54:03.994021",
     "exception": false,
     "start_time": "2024-06-27T04:54:03.980088",
     "status": "completed"
    },
    "tags": []
   },
   "outputs": [
    {
     "name": "stdout",
     "output_type": "stream",
     "text": [
      "Shape of fc DataFrame: (15120, 13)\n"
     ]
    }
   ],
   "source": [
    "# Print the shape of the DataFrame\n",
    "print(\"Shape of fc DataFrame:\", fc.shape)"
   ]
  },
  {
   "cell_type": "code",
   "execution_count": 4,
   "id": "4cd37f9e",
   "metadata": {
    "execution": {
     "iopub.execute_input": "2024-06-27T04:54:04.006982Z",
     "iopub.status.busy": "2024-06-27T04:54:04.006079Z",
     "iopub.status.idle": "2024-06-27T04:54:04.024405Z",
     "shell.execute_reply": "2024-06-27T04:54:04.023238Z"
    },
    "papermill": {
     "duration": 0.027069,
     "end_time": "2024-06-27T04:54:04.026531",
     "exception": false,
     "start_time": "2024-06-27T04:54:03.999462",
     "status": "completed"
    },
    "tags": []
   },
   "outputs": [
    {
     "data": {
      "text/plain": [
       "Cover_Type\n",
       "1    2160\n",
       "2    2160\n",
       "3    2160\n",
       "4    2160\n",
       "5    2160\n",
       "6    2160\n",
       "7    2160\n",
       "Name: count, dtype: int64"
      ]
     },
     "execution_count": 4,
     "metadata": {},
     "output_type": "execute_result"
    }
   ],
   "source": [
    "# Display the distribution of cover types\n",
    "fc['Cover_Type'].value_counts().sort_index()"
   ]
  },
  {
   "cell_type": "code",
   "execution_count": 5,
   "id": "6060d3f2",
   "metadata": {
    "execution": {
     "iopub.execute_input": "2024-06-27T04:54:04.039712Z",
     "iopub.status.busy": "2024-06-27T04:54:04.039324Z",
     "iopub.status.idle": "2024-06-27T04:54:04.044700Z",
     "shell.execute_reply": "2024-06-27T04:54:04.043728Z"
    },
    "papermill": {
     "duration": 0.014471,
     "end_time": "2024-06-27T04:54:04.046828",
     "exception": false,
     "start_time": "2024-06-27T04:54:04.032357",
     "status": "completed"
    },
    "tags": []
   },
   "outputs": [],
   "source": [
    "# Create a list named palette containing seven named colors\n",
    "palette = ['orchid', 'lightcoral', 'orange', 'gold', 'lightgreen', 'deepskyblue', 'cornflowerblue']"
   ]
  },
  {
   "cell_type": "markdown",
   "id": "af7b2e11",
   "metadata": {
    "papermill": {
     "duration": 0.005924,
     "end_time": "2024-06-27T04:54:04.058443",
     "exception": false,
     "start_time": "2024-06-27T04:54:04.052519",
     "status": "completed"
    },
    "tags": []
   },
   "source": [
    "## Distribution of Cover Type by Wilderness Area\n",
    "\n",
    "In this section, I will explore the relationship between cover type and wilderness area. I will start by determining the distribution of the wilderness areas within the dataset."
   ]
  },
  {
   "cell_type": "code",
   "execution_count": 6,
   "id": "9b667f44",
   "metadata": {
    "execution": {
     "iopub.execute_input": "2024-06-27T04:54:04.071076Z",
     "iopub.status.busy": "2024-06-27T04:54:04.070694Z",
     "iopub.status.idle": "2024-06-27T04:54:04.081910Z",
     "shell.execute_reply": "2024-06-27T04:54:04.080985Z"
    },
    "papermill": {
     "duration": 0.019962,
     "end_time": "2024-06-27T04:54:04.083987",
     "exception": false,
     "start_time": "2024-06-27T04:54:04.064025",
     "status": "completed"
    },
    "tags": []
   },
   "outputs": [
    {
     "data": {
      "text/plain": [
       "Wilderness_Area\n",
       "Cache la Poudre    4675\n",
       "Comanche Peak      6349\n",
       "Neota               499\n",
       "Rawah              3597\n",
       "Name: count, dtype: int64"
      ]
     },
     "execution_count": 6,
     "metadata": {},
     "output_type": "execute_result"
    }
   ],
   "source": [
    "# Display the distribution of wilderness areas within the dataset\n",
    "wilderness_area_distribution = fc['Wilderness_Area'].value_counts().sort_index()\n",
    "wilderness_area_distribution"
   ]
  },
  {
   "cell_type": "code",
   "execution_count": 7,
   "id": "5b17a44d",
   "metadata": {
    "execution": {
     "iopub.execute_input": "2024-06-27T04:54:04.098229Z",
     "iopub.status.busy": "2024-06-27T04:54:04.097157Z",
     "iopub.status.idle": "2024-06-27T04:54:04.129666Z",
     "shell.execute_reply": "2024-06-27T04:54:04.128655Z"
    },
    "papermill": {
     "duration": 0.041921,
     "end_time": "2024-06-27T04:54:04.131961",
     "exception": false,
     "start_time": "2024-06-27T04:54:04.090040",
     "status": "completed"
    },
    "tags": []
   },
   "outputs": [
    {
     "data": {
      "text/html": [
       "<div>\n",
       "<style scoped>\n",
       "    .dataframe tbody tr th:only-of-type {\n",
       "        vertical-align: middle;\n",
       "    }\n",
       "\n",
       "    .dataframe tbody tr th {\n",
       "        vertical-align: top;\n",
       "    }\n",
       "\n",
       "    .dataframe thead th {\n",
       "        text-align: right;\n",
       "    }\n",
       "</style>\n",
       "<table border=\"1\" class=\"dataframe\">\n",
       "  <thead>\n",
       "    <tr style=\"text-align: right;\">\n",
       "      <th>Wilderness_Area</th>\n",
       "      <th>Cache la Poudre</th>\n",
       "      <th>Comanche Peak</th>\n",
       "      <th>Neota</th>\n",
       "      <th>Rawah</th>\n",
       "    </tr>\n",
       "    <tr>\n",
       "      <th>Cover_Type</th>\n",
       "      <th></th>\n",
       "      <th></th>\n",
       "      <th></th>\n",
       "      <th></th>\n",
       "    </tr>\n",
       "  </thead>\n",
       "  <tbody>\n",
       "    <tr>\n",
       "      <th>1</th>\n",
       "      <td>0</td>\n",
       "      <td>917</td>\n",
       "      <td>181</td>\n",
       "      <td>1062</td>\n",
       "    </tr>\n",
       "    <tr>\n",
       "      <th>2</th>\n",
       "      <td>20</td>\n",
       "      <td>940</td>\n",
       "      <td>66</td>\n",
       "      <td>1134</td>\n",
       "    </tr>\n",
       "    <tr>\n",
       "      <th>3</th>\n",
       "      <td>1297</td>\n",
       "      <td>863</td>\n",
       "      <td>0</td>\n",
       "      <td>0</td>\n",
       "    </tr>\n",
       "    <tr>\n",
       "      <th>4</th>\n",
       "      <td>2160</td>\n",
       "      <td>0</td>\n",
       "      <td>0</td>\n",
       "      <td>0</td>\n",
       "    </tr>\n",
       "    <tr>\n",
       "      <th>5</th>\n",
       "      <td>0</td>\n",
       "      <td>1304</td>\n",
       "      <td>0</td>\n",
       "      <td>856</td>\n",
       "    </tr>\n",
       "    <tr>\n",
       "      <th>6</th>\n",
       "      <td>1198</td>\n",
       "      <td>962</td>\n",
       "      <td>0</td>\n",
       "      <td>0</td>\n",
       "    </tr>\n",
       "    <tr>\n",
       "      <th>7</th>\n",
       "      <td>0</td>\n",
       "      <td>1363</td>\n",
       "      <td>252</td>\n",
       "      <td>545</td>\n",
       "    </tr>\n",
       "  </tbody>\n",
       "</table>\n",
       "</div>"
      ],
      "text/plain": [
       "Wilderness_Area  Cache la Poudre  Comanche Peak  Neota  Rawah\n",
       "Cover_Type                                                   \n",
       "1                              0            917    181   1062\n",
       "2                             20            940     66   1134\n",
       "3                           1297            863      0      0\n",
       "4                           2160              0      0      0\n",
       "5                              0           1304      0    856\n",
       "6                           1198            962      0      0\n",
       "7                              0           1363    252    545"
      ]
     },
     "execution_count": 7,
     "metadata": {},
     "output_type": "execute_result"
    }
   ],
   "source": [
    "# Create a DataFrame to count the number of regions of each cover type in each of the four wilderness areas\n",
    "ct_by_wa = pd.crosstab(fc['Cover_Type'], fc['Wilderness_Area'])\n",
    "ct_by_wa"
   ]
  },
  {
   "cell_type": "code",
   "execution_count": 8,
   "id": "1c0a0cae",
   "metadata": {
    "execution": {
     "iopub.execute_input": "2024-06-27T04:54:04.145977Z",
     "iopub.status.busy": "2024-06-27T04:54:04.145593Z",
     "iopub.status.idle": "2024-06-27T04:54:04.500327Z",
     "shell.execute_reply": "2024-06-27T04:54:04.499227Z"
    },
    "papermill": {
     "duration": 0.364405,
     "end_time": "2024-06-27T04:54:04.502598",
     "exception": false,
     "start_time": "2024-06-27T04:54:04.138193",
     "status": "completed"
    },
    "tags": []
   },
   "outputs": [
    {
     "data": {
      "image/png": "[encoded data removed]",
      "text/plain": [
       "<Figure size 800x400 with 1 Axes>"
      ]
     },
     "metadata": {},
     "output_type": "display_data"
    }
   ],
   "source": [
    "# Convert the count information into proportions\n",
    "ct_by_wa_props = ct_by_wa.div(ct_by_wa.sum(axis=0), axis=1)\n",
    "\n",
    "# Calculate the bottom of each bar\n",
    "bb = np.cumsum(ct_by_wa_props, axis=0) - ct_by_wa_props\n",
    "\n",
    "# Create a Matplotlib figure\n",
    "plt.figure(figsize=[8, 4])\n",
    "\n",
    "# Define the color palette for the bars\n",
    "palette = plt.get_cmap('tab10').colors\n",
    "\n",
    "# Loop over the rows of ct_by_wa_props to create a stacked bar chart\n",
    "for i, (index, row) in enumerate(ct_by_wa_props.iterrows()):\n",
    "    plt.bar(ct_by_wa.columns, row, bottom=bb.loc[index], edgecolor='black', color=palette[i], label=f'Cover Type {index}')\n",
    "\n",
    "# Set labels for the x and y axes and the title\n",
    "plt.xlabel('Wilderness Area')\n",
    "plt.ylabel('Proportion')\n",
    "plt.title('Distribution of Cover Type by Wilderness Area')\n",
    "\n",
    "# Add a legend to the plot\n",
    "plt.legend(bbox_to_anchor=(1.05, 1), loc='upper left')\n",
    "\n",
    "# Display the figure\n",
    "plt.show()"
   ]
  },
  {
   "cell_type": "markdown",
   "id": "1657dd63",
   "metadata": {
    "papermill": {
     "duration": 0.006555,
     "end_time": "2024-06-27T04:54:04.516236",
     "exception": false,
     "start_time": "2024-06-27T04:54:04.509681",
     "status": "completed"
    },
    "tags": []
   },
   "source": [
    "## Distribution of Cover Type by Soil Type\n",
    "\n",
    "In this section, I will explore the relationship between cover type and soil type. I will start by creating a DataFrame to determine the number of regions of each cover type there are for each of the 40 soil types. This will help me understand the distribution of different cover types across various soil types in the dataset.\n",
    "\n",
    "First, I will use **\"pd.crosstab()\"** to count the number of regions of each cover type for each soil type. I will then store these results in a DataFrame named **\"ct_by_st\"** and display it."
   ]
  },
  {
   "cell_type": "code",
   "execution_count": 9,
   "id": "d560dec9",
   "metadata": {
    "execution": {
     "iopub.execute_input": "2024-06-27T04:54:04.531763Z",
     "iopub.status.busy": "2024-06-27T04:54:04.531071Z",
     "iopub.status.idle": "2024-06-27T04:54:04.558753Z",
     "shell.execute_reply": "2024-06-27T04:54:04.557750Z"
    },
    "papermill": {
     "duration": 0.037958,
     "end_time": "2024-06-27T04:54:04.560921",
     "exception": false,
     "start_time": "2024-06-27T04:54:04.522963",
     "status": "completed"
    },
    "tags": []
   },
   "outputs": [
    {
     "data": {
      "text/html": [
       "<div>\n",
       "<style scoped>\n",
       "    .dataframe tbody tr th:only-of-type {\n",
       "        vertical-align: middle;\n",
       "    }\n",
       "\n",
       "    .dataframe tbody tr th {\n",
       "        vertical-align: top;\n",
       "    }\n",
       "\n",
       "    .dataframe thead th {\n",
       "        text-align: right;\n",
       "    }\n",
       "</style>\n",
       "<table border=\"1\" class=\"dataframe\">\n",
       "  <thead>\n",
       "    <tr style=\"text-align: right;\">\n",
       "      <th>Soil_Type</th>\n",
       "      <th>1</th>\n",
       "      <th>2</th>\n",
       "      <th>3</th>\n",
       "      <th>4</th>\n",
       "      <th>5</th>\n",
       "      <th>6</th>\n",
       "      <th>8</th>\n",
       "      <th>9</th>\n",
       "      <th>10</th>\n",
       "      <th>11</th>\n",
       "      <th>...</th>\n",
       "      <th>31</th>\n",
       "      <th>32</th>\n",
       "      <th>33</th>\n",
       "      <th>34</th>\n",
       "      <th>35</th>\n",
       "      <th>36</th>\n",
       "      <th>37</th>\n",
       "      <th>38</th>\n",
       "      <th>39</th>\n",
       "      <th>40</th>\n",
       "    </tr>\n",
       "    <tr>\n",
       "      <th>Cover_Type</th>\n",
       "      <th></th>\n",
       "      <th></th>\n",
       "      <th></th>\n",
       "      <th></th>\n",
       "      <th></th>\n",
       "      <th></th>\n",
       "      <th></th>\n",
       "      <th></th>\n",
       "      <th></th>\n",
       "      <th></th>\n",
       "      <th></th>\n",
       "      <th></th>\n",
       "      <th></th>\n",
       "      <th></th>\n",
       "      <th></th>\n",
       "      <th></th>\n",
       "      <th></th>\n",
       "      <th></th>\n",
       "      <th></th>\n",
       "      <th></th>\n",
       "      <th></th>\n",
       "    </tr>\n",
       "  </thead>\n",
       "  <tbody>\n",
       "    <tr>\n",
       "      <th>1</th>\n",
       "      <td>0</td>\n",
       "      <td>0</td>\n",
       "      <td>0</td>\n",
       "      <td>5</td>\n",
       "      <td>0</td>\n",
       "      <td>0</td>\n",
       "      <td>0</td>\n",
       "      <td>1</td>\n",
       "      <td>9</td>\n",
       "      <td>5</td>\n",
       "      <td>...</td>\n",
       "      <td>114</td>\n",
       "      <td>230</td>\n",
       "      <td>184</td>\n",
       "      <td>0</td>\n",
       "      <td>3</td>\n",
       "      <td>0</td>\n",
       "      <td>0</td>\n",
       "      <td>80</td>\n",
       "      <td>79</td>\n",
       "      <td>49</td>\n",
       "    </tr>\n",
       "    <tr>\n",
       "      <th>2</th>\n",
       "      <td>0</td>\n",
       "      <td>3</td>\n",
       "      <td>12</td>\n",
       "      <td>20</td>\n",
       "      <td>0</td>\n",
       "      <td>7</td>\n",
       "      <td>1</td>\n",
       "      <td>9</td>\n",
       "      <td>81</td>\n",
       "      <td>67</td>\n",
       "      <td>...</td>\n",
       "      <td>97</td>\n",
       "      <td>255</td>\n",
       "      <td>184</td>\n",
       "      <td>12</td>\n",
       "      <td>1</td>\n",
       "      <td>2</td>\n",
       "      <td>0</td>\n",
       "      <td>7</td>\n",
       "      <td>3</td>\n",
       "      <td>3</td>\n",
       "    </tr>\n",
       "    <tr>\n",
       "      <th>3</th>\n",
       "      <td>121</td>\n",
       "      <td>283</td>\n",
       "      <td>133</td>\n",
       "      <td>462</td>\n",
       "      <td>55</td>\n",
       "      <td>248</td>\n",
       "      <td>0</td>\n",
       "      <td>0</td>\n",
       "      <td>717</td>\n",
       "      <td>89</td>\n",
       "      <td>...</td>\n",
       "      <td>0</td>\n",
       "      <td>5</td>\n",
       "      <td>0</td>\n",
       "      <td>0</td>\n",
       "      <td>0</td>\n",
       "      <td>0</td>\n",
       "      <td>0</td>\n",
       "      <td>0</td>\n",
       "      <td>0</td>\n",
       "      <td>0</td>\n",
       "    </tr>\n",
       "    <tr>\n",
       "      <th>4</th>\n",
       "      <td>139</td>\n",
       "      <td>94</td>\n",
       "      <td>799</td>\n",
       "      <td>133</td>\n",
       "      <td>39</td>\n",
       "      <td>244</td>\n",
       "      <td>0</td>\n",
       "      <td>0</td>\n",
       "      <td>170</td>\n",
       "      <td>24</td>\n",
       "      <td>...</td>\n",
       "      <td>0</td>\n",
       "      <td>0</td>\n",
       "      <td>0</td>\n",
       "      <td>0</td>\n",
       "      <td>0</td>\n",
       "      <td>0</td>\n",
       "      <td>0</td>\n",
       "      <td>0</td>\n",
       "      <td>0</td>\n",
       "      <td>0</td>\n",
       "    </tr>\n",
       "    <tr>\n",
       "      <th>5</th>\n",
       "      <td>0</td>\n",
       "      <td>61</td>\n",
       "      <td>0</td>\n",
       "      <td>129</td>\n",
       "      <td>0</td>\n",
       "      <td>0</td>\n",
       "      <td>0</td>\n",
       "      <td>0</td>\n",
       "      <td>64</td>\n",
       "      <td>154</td>\n",
       "      <td>...</td>\n",
       "      <td>87</td>\n",
       "      <td>100</td>\n",
       "      <td>115</td>\n",
       "      <td>4</td>\n",
       "      <td>0</td>\n",
       "      <td>0</td>\n",
       "      <td>0</td>\n",
       "      <td>0</td>\n",
       "      <td>0</td>\n",
       "      <td>0</td>\n",
       "    </tr>\n",
       "    <tr>\n",
       "      <th>6</th>\n",
       "      <td>95</td>\n",
       "      <td>182</td>\n",
       "      <td>18</td>\n",
       "      <td>87</td>\n",
       "      <td>71</td>\n",
       "      <td>151</td>\n",
       "      <td>0</td>\n",
       "      <td>0</td>\n",
       "      <td>1101</td>\n",
       "      <td>67</td>\n",
       "      <td>...</td>\n",
       "      <td>7</td>\n",
       "      <td>30</td>\n",
       "      <td>66</td>\n",
       "      <td>2</td>\n",
       "      <td>0</td>\n",
       "      <td>0</td>\n",
       "      <td>0</td>\n",
       "      <td>0</td>\n",
       "      <td>0</td>\n",
       "      <td>0</td>\n",
       "    </tr>\n",
       "    <tr>\n",
       "      <th>7</th>\n",
       "      <td>0</td>\n",
       "      <td>0</td>\n",
       "      <td>0</td>\n",
       "      <td>7</td>\n",
       "      <td>0</td>\n",
       "      <td>0</td>\n",
       "      <td>0</td>\n",
       "      <td>0</td>\n",
       "      <td>0</td>\n",
       "      <td>0</td>\n",
       "      <td>...</td>\n",
       "      <td>27</td>\n",
       "      <td>70</td>\n",
       "      <td>67</td>\n",
       "      <td>4</td>\n",
       "      <td>98</td>\n",
       "      <td>8</td>\n",
       "      <td>34</td>\n",
       "      <td>641</td>\n",
       "      <td>575</td>\n",
       "      <td>407</td>\n",
       "    </tr>\n",
       "  </tbody>\n",
       "</table>\n",
       "<p>7 rows × 38 columns</p>\n",
       "</div>"
      ],
      "text/plain": [
       "Soil_Type    1    2    3    4   5    6   8   9     10   11  ...   31   32  \\\n",
       "Cover_Type                                                  ...             \n",
       "1             0    0    0    5   0    0   0   1     9    5  ...  114  230   \n",
       "2             0    3   12   20   0    7   1   9    81   67  ...   97  255   \n",
       "3           121  283  133  462  55  248   0   0   717   89  ...    0    5   \n",
       "4           139   94  799  133  39  244   0   0   170   24  ...    0    0   \n",
       "5             0   61    0  129   0    0   0   0    64  154  ...   87  100   \n",
       "6            95  182   18   87  71  151   0   0  1101   67  ...    7   30   \n",
       "7             0    0    0    7   0    0   0   0     0    0  ...   27   70   \n",
       "\n",
       "Soil_Type    33  34  35  36  37   38   39   40  \n",
       "Cover_Type                                      \n",
       "1           184   0   3   0   0   80   79   49  \n",
       "2           184  12   1   2   0    7    3    3  \n",
       "3             0   0   0   0   0    0    0    0  \n",
       "4             0   0   0   0   0    0    0    0  \n",
       "5           115   4   0   0   0    0    0    0  \n",
       "6            66   2   0   0   0    0    0    0  \n",
       "7            67   4  98   8  34  641  575  407  \n",
       "\n",
       "[7 rows x 38 columns]"
      ]
     },
     "execution_count": 9,
     "metadata": {},
     "output_type": "execute_result"
    }
   ],
   "source": [
    "# Assuming df is the DataFrame that contains the dataset\n",
    "ct_by_st = pd.crosstab(fc['Cover_Type'], fc['Soil_Type'])\n",
    "ct_by_st"
   ]
  },
  {
   "cell_type": "code",
   "execution_count": 10,
   "id": "613524ab",
   "metadata": {
    "execution": {
     "iopub.execute_input": "2024-06-27T04:54:04.578026Z",
     "iopub.status.busy": "2024-06-27T04:54:04.577359Z",
     "iopub.status.idle": "2024-06-27T04:54:05.243282Z",
     "shell.execute_reply": "2024-06-27T04:54:05.242238Z"
    },
    "papermill": {
     "duration": 0.676679,
     "end_time": "2024-06-27T04:54:05.245502",
     "exception": false,
     "start_time": "2024-06-27T04:54:04.568823",
     "status": "completed"
    },
    "tags": []
   },
   "outputs": [
    {
     "data": {
      "image/png": "[encoded data removed]",
      "text/plain": [
       "<Figure size 1200x600 with 1 Axes>"
      ]
     },
     "metadata": {},
     "output_type": "display_data"
    }
   ],
   "source": [
    "# Convert the count information into proportions\n",
    "ct_by_st_props = ct_by_st.div(ct_by_st.sum(axis=0), axis=1)\n",
    "\n",
    "# Calculate the bottom of each bar\n",
    "bb = np.cumsum(ct_by_st_props, axis=0) - ct_by_st_props\n",
    "\n",
    "# Create a Matplotlib figure\n",
    "plt.figure(figsize=[12, 6])\n",
    "\n",
    "# Define the color palette for the bars\n",
    "palette = plt.get_cmap('tab10').colors\n",
    "\n",
    "# Loop over the rows of ct_by_wa_props to create a stacked bar chart\n",
    "for i, (index, row) in enumerate(ct_by_st_props.iterrows()):\n",
    "    plt.bar(ct_by_st.columns, row, bottom=bb.loc[index], edgecolor='black', color=palette[i], label=f'Cover Type {index}')\n",
    "\n",
    "# Set labels for the x and y axes and the title\n",
    "plt.xlabel('Soil Type')\n",
    "plt.ylabel('Proportion')\n",
    "plt.title('Distribution of Cover Type by Soil Type')\n",
    "\n",
    "# Add a legend to the plot\n",
    "plt.legend(bbox_to_anchor=(1.05, 1), loc='upper left')\n",
    "\n",
    "# Display the figure\n",
    "plt.show()"
   ]
  },
  {
   "cell_type": "markdown",
   "id": "206bc1e9",
   "metadata": {
    "papermill": {
     "duration": 0.007742,
     "end_time": "2024-06-27T04:54:05.261337",
     "exception": false,
     "start_time": "2024-06-27T04:54:05.253595",
     "status": "completed"
    },
    "tags": []
   },
   "source": [
    "## Distribution of Elevation by Cover Type\n",
    "\n",
    "In this section, I will explore the relationship between cover type and elevation. I will start by calculating the average elevation for each of the seven cover types. This will give me an initial understanding of how elevation varies across different cover types. Afterward, I will create histograms to visually explore the distribution of elevations for each of the seven cover types."
   ]
  },
  {
   "cell_type": "code",
   "execution_count": 11,
   "id": "5e2630fe",
   "metadata": {
    "execution": {
     "iopub.execute_input": "2024-06-27T04:54:05.279137Z",
     "iopub.status.busy": "2024-06-27T04:54:05.278735Z",
     "iopub.status.idle": "2024-06-27T04:54:05.294609Z",
     "shell.execute_reply": "2024-06-27T04:54:05.293553Z"
    },
    "papermill": {
     "duration": 0.027556,
     "end_time": "2024-06-27T04:54:05.296985",
     "exception": false,
     "start_time": "2024-06-27T04:54:05.269429",
     "status": "completed"
    },
    "tags": []
   },
   "outputs": [
    {
     "data": {
      "text/html": [
       "<div>\n",
       "<style scoped>\n",
       "    .dataframe tbody tr th:only-of-type {\n",
       "        vertical-align: middle;\n",
       "    }\n",
       "\n",
       "    .dataframe tbody tr th {\n",
       "        vertical-align: top;\n",
       "    }\n",
       "\n",
       "    .dataframe thead th {\n",
       "        text-align: right;\n",
       "    }\n",
       "</style>\n",
       "<table border=\"1\" class=\"dataframe\">\n",
       "  <thead>\n",
       "    <tr style=\"text-align: right;\">\n",
       "      <th></th>\n",
       "      <th>Cover_Type</th>\n",
       "      <th>Elevation</th>\n",
       "    </tr>\n",
       "  </thead>\n",
       "  <tbody>\n",
       "    <tr>\n",
       "      <th>0</th>\n",
       "      <td>1</td>\n",
       "      <td>3128.025926</td>\n",
       "    </tr>\n",
       "    <tr>\n",
       "      <th>1</th>\n",
       "      <td>2</td>\n",
       "      <td>2922.540278</td>\n",
       "    </tr>\n",
       "    <tr>\n",
       "      <th>2</th>\n",
       "      <td>3</td>\n",
       "      <td>2398.423148</td>\n",
       "    </tr>\n",
       "    <tr>\n",
       "      <th>3</th>\n",
       "      <td>4</td>\n",
       "      <td>2223.420370</td>\n",
       "    </tr>\n",
       "    <tr>\n",
       "      <th>4</th>\n",
       "      <td>5</td>\n",
       "      <td>2786.801389</td>\n",
       "    </tr>\n",
       "    <tr>\n",
       "      <th>5</th>\n",
       "      <td>6</td>\n",
       "      <td>2423.276852</td>\n",
       "    </tr>\n",
       "    <tr>\n",
       "      <th>6</th>\n",
       "      <td>7</td>\n",
       "      <td>3362.769907</td>\n",
       "    </tr>\n",
       "  </tbody>\n",
       "</table>\n",
       "</div>"
      ],
      "text/plain": [
       "   Cover_Type    Elevation\n",
       "0           1  3128.025926\n",
       "1           2  2922.540278\n",
       "2           3  2398.423148\n",
       "3           4  2223.420370\n",
       "4           5  2786.801389\n",
       "5           6  2423.276852\n",
       "6           7  3362.769907"
      ]
     },
     "execution_count": 11,
     "metadata": {},
     "output_type": "execute_result"
    }
   ],
   "source": [
    "# Select the Elevation and Cover_Type columns, group by Cover_Type, and calculate the mean Elevation\n",
    "elevation_mean = fc[['Elevation', 'Cover_Type']].groupby('Cover_Type').mean().reset_index()\n",
    "elevation_mean"
   ]
  },
  {
   "cell_type": "code",
   "execution_count": 12,
   "id": "fca0c498",
   "metadata": {
    "execution": {
     "iopub.execute_input": "2024-06-27T04:54:05.316122Z",
     "iopub.status.busy": "2024-06-27T04:54:05.315111Z",
     "iopub.status.idle": "2024-06-27T04:54:07.055425Z",
     "shell.execute_reply": "2024-06-27T04:54:07.054397Z"
    },
    "papermill": {
     "duration": 1.752331,
     "end_time": "2024-06-27T04:54:07.057686",
     "exception": false,
     "start_time": "2024-06-27T04:54:05.305355",
     "status": "completed"
    },
    "tags": []
   },
   "outputs": [
    {
     "data": {
      "image/png": "[encoded data removed]",
      "text/plain": [
       "<Figure size 1200x600 with 7 Axes>"
      ]
     },
     "metadata": {},
     "output_type": "display_data"
    }
   ],
   "source": [
    "# Create a figure with seven subplots arranged in a 2x4 grid (the bottom right subplot will be empty)\n",
    "plt.figure(figsize=[12, 6])\n",
    "\n",
    "# Loop over the possible values of Cover_Type (integers 1 – 7)\n",
    "for i in range(1, 8):\n",
    "    plt.subplot(2, 4, i)\n",
    "    # Add a histogram of Elevation for the current Cover_Type\n",
    "    plt.hist(fc[fc['Cover_Type'] == i]['Elevation'], bins=np.arange(1800, 4050, 50), color=palette[i-1], edgecolor='black')\n",
    "    # Set the title of the subplot\n",
    "    plt.title(f'Cover Type {i}')\n",
    "    # Set the x-limits and y-limits\n",
    "    plt.xlim([1800, 4000])\n",
    "    plt.ylim([0, 600])\n",
    "    # Set the axis labels\n",
    "    plt.xlabel('Elevation')\n",
    "    plt.ylabel('Count')\n",
    "\n",
    "# Call plt.tight_layout() and display the figures\n",
    "plt.tight_layout()\n",
    "plt.show()"
   ]
  },
  {
   "cell_type": "markdown",
   "id": "96fc8603",
   "metadata": {
    "papermill": {
     "duration": 0.008835,
     "end_time": "2024-06-27T04:54:07.075815",
     "exception": false,
     "start_time": "2024-06-27T04:54:07.066980",
     "status": "completed"
    },
    "tags": []
   },
   "source": [
    "## Creating Training, Validation, and Test Sets\n",
    "\n",
    "In this section, I will encode our categorical variables and will create training, validation, and test sets. I will start by separating the categorical features, the numerical features, and the labels. \n",
    "\n",
    "I will be using **\"Cover_Type\"** as the label variable in our models. All other columns will be used as features. Of the feature columns, **\"Wilderness_Area\"** and **\"Soil_Type\"** are categorical, while all other feature columns are numerical."
   ]
  },
  {
   "cell_type": "code",
   "execution_count": 13,
   "id": "7e39d0f1",
   "metadata": {
    "execution": {
     "iopub.execute_input": "2024-06-27T04:54:07.096938Z",
     "iopub.status.busy": "2024-06-27T04:54:07.096022Z",
     "iopub.status.idle": "2024-06-27T04:54:07.106792Z",
     "shell.execute_reply": "2024-06-27T04:54:07.105645Z"
    },
    "papermill": {
     "duration": 0.023625,
     "end_time": "2024-06-27T04:54:07.109066",
     "exception": false,
     "start_time": "2024-06-27T04:54:07.085441",
     "status": "completed"
    },
    "tags": []
   },
   "outputs": [
    {
     "name": "stdout",
     "output_type": "stream",
     "text": [
      "Numerical Feature Array Shape:   (15120, 10)\n",
      "Categorical Feature Array Shape: (15120, 2)\n",
      "Label Array Shape:               (15120,)\n"
     ]
    }
   ],
   "source": [
    "# Create a 2D array for numerical features\n",
    "X_num = fc.loc[:, (fc.columns != 'Wilderness_Area') & \n",
    "               (fc.columns != 'Soil_Type') & \n",
    "               (fc.columns != 'Cover_Type')].values\n",
    "\n",
    "# Create a 2D array for categorical features\n",
    "X_cat = fc[['Wilderness_Area', 'Soil_Type']].values\n",
    "\n",
    "# Create a 1D array for the labels\n",
    "y = fc['Cover_Type'].values\n",
    "\n",
    "# Print the shapes of the arrays\n",
    "print(f'Numerical Feature Array Shape:   {X_num.shape}')\n",
    "print(f'Categorical Feature Array Shape: {X_cat.shape}')\n",
    "print(f'Label Array Shape:               {y.shape}')"
   ]
  },
  {
   "cell_type": "code",
   "execution_count": 14,
   "id": "bb776707",
   "metadata": {
    "execution": {
     "iopub.execute_input": "2024-06-27T04:54:07.129873Z",
     "iopub.status.busy": "2024-06-27T04:54:07.129073Z",
     "iopub.status.idle": "2024-06-27T04:54:07.154835Z",
     "shell.execute_reply": "2024-06-27T04:54:07.153699Z"
    },
    "papermill": {
     "duration": 0.038429,
     "end_time": "2024-06-27T04:54:07.156979",
     "exception": false,
     "start_time": "2024-06-27T04:54:07.118550",
     "status": "completed"
    },
    "tags": []
   },
   "outputs": [
    {
     "name": "stdout",
     "output_type": "stream",
     "text": [
      "Encoded Feature Array Shape: (15120, 42)\n"
     ]
    }
   ],
   "source": [
    "# Create a OneHotEncoder object\n",
    "encoder = OneHotEncoder(sparse_output=False)\n",
    "\n",
    "# Fit the encoder to the categorical features\n",
    "encoder.fit(X_cat)\n",
    "\n",
    "# Encode the categorical features\n",
    "X_enc = encoder.transform(X_cat)\n",
    "\n",
    "# Print the shape of the encoded features array\n",
    "print(f'Encoded Feature Array Shape: {X_enc.shape}')"
   ]
  },
  {
   "cell_type": "code",
   "execution_count": 15,
   "id": "6e85b4e1",
   "metadata": {
    "execution": {
     "iopub.execute_input": "2024-06-27T04:54:07.177863Z",
     "iopub.status.busy": "2024-06-27T04:54:07.177464Z",
     "iopub.status.idle": "2024-06-27T04:54:07.186856Z",
     "shell.execute_reply": "2024-06-27T04:54:07.185550Z"
    },
    "papermill": {
     "duration": 0.022431,
     "end_time": "2024-06-27T04:54:07.188997",
     "exception": false,
     "start_time": "2024-06-27T04:54:07.166566",
     "status": "completed"
    },
    "tags": []
   },
   "outputs": [
    {
     "name": "stdout",
     "output_type": "stream",
     "text": [
      "Feature Array Shape: (15120, 52)\n"
     ]
    }
   ],
   "source": [
    "# Combine numerical and encoded categorical features\n",
    "X = np.hstack((X_num, X_enc))\n",
    "\n",
    "# Print the shape of the combined feature array\n",
    "print(f'Feature Array Shape: {X.shape}')"
   ]
  },
  {
   "cell_type": "code",
   "execution_count": 16,
   "id": "fddaba00",
   "metadata": {
    "execution": {
     "iopub.execute_input": "2024-06-27T04:54:07.210153Z",
     "iopub.status.busy": "2024-06-27T04:54:07.209154Z",
     "iopub.status.idle": "2024-06-27T04:54:07.230426Z",
     "shell.execute_reply": "2024-06-27T04:54:07.229368Z"
    },
    "papermill": {
     "duration": 0.034114,
     "end_time": "2024-06-27T04:54:07.232648",
     "exception": false,
     "start_time": "2024-06-27T04:54:07.198534",
     "status": "completed"
    },
    "tags": []
   },
   "outputs": [
    {
     "name": "stdout",
     "output_type": "stream",
     "text": [
      "Training Features Shape:   (10584, 52)\n",
      "Validation Features Shape: (2268, 52)\n",
      "Test Features Shape:       (2268, 52)\n"
     ]
    }
   ],
   "source": [
    "# Split the data into training and holdout sets using a 70/30 split\n",
    "X_train, X_hold, y_train, y_hold = train_test_split(X, y, test_size=0.30, random_state=1, stratify=y)\n",
    "\n",
    "# Split the holdout data into validation and test sets using a 50/50 split\n",
    "X_valid, X_test, y_valid, y_test = train_test_split(X_hold, y_hold, test_size=0.50, random_state=1, stratify=y_hold)\n",
    "\n",
    "# Print the shapes of the training, validation, and test feature arrays\n",
    "print(f'Training Features Shape:   {X_train.shape}')\n",
    "print(f'Validation Features Shape: {X_valid.shape}')\n",
    "print(f'Test Features Shape:       {X_test.shape}')"
   ]
  },
  {
   "cell_type": "markdown",
   "id": "7dc87bfd",
   "metadata": {
    "papermill": {
     "duration": 0.009145,
     "end_time": "2024-06-27T04:54:07.251294",
     "exception": false,
     "start_time": "2024-06-27T04:54:07.242149",
     "status": "completed"
    },
    "tags": []
   },
   "source": [
    "## Logistic Regression Model\n",
    "\n",
    "In this part, I will create and evaluate a logistic regression model. The purpose of this code is to fit the model to the training data and then calculate and display the training and validation accuracy scores."
   ]
  },
  {
   "cell_type": "code",
   "execution_count": 17,
   "id": "502d8079",
   "metadata": {
    "execution": {
     "iopub.execute_input": "2024-06-27T04:54:07.272227Z",
     "iopub.status.busy": "2024-06-27T04:54:07.271828Z",
     "iopub.status.idle": "2024-06-27T04:55:40.225373Z",
     "shell.execute_reply": "2024-06-27T04:55:40.224310Z"
    },
    "papermill": {
     "duration": 92.988629,
     "end_time": "2024-06-27T04:55:40.249563",
     "exception": false,
     "start_time": "2024-06-27T04:54:07.260934",
     "status": "completed"
    },
    "tags": []
   },
   "outputs": [
    {
     "name": "stdout",
     "output_type": "stream",
     "text": [
      "Training Accuracy:   0.6129\n",
      "Validation Accuracy: 0.6160\n"
     ]
    },
    {
     "name": "stderr",
     "output_type": "stream",
     "text": [
      "/opt/conda/lib/python3.10/site-packages/sklearn/linear_model/_sag.py:350: ConvergenceWarning: The max_iter was reached which means the coef_ did not converge\n",
      "  warnings.warn(\n"
     ]
    }
   ],
   "source": [
    "# Create and fit the logistic regression model\n",
    "lr_mod = LogisticRegression(solver='saga', max_iter=3000, multi_class='multinomial', penalty=None)\n",
    "lr_mod.fit(X_train, y_train)\n",
    "\n",
    "# Calculate the training and validation accuracy\n",
    "training_accuracy = lr_mod.score(X_train, y_train)\n",
    "validation_accuracy = lr_mod.score(X_valid, y_valid)\n",
    "\n",
    "# Print the accuracy scores\n",
    "print(f\"Training Accuracy:   {training_accuracy:.4f}\")\n",
    "print(f\"Validation Accuracy: {validation_accuracy:.4f}\")\n"
   ]
  }
 ],
 "metadata": {
  "kaggle": {
   "accelerator": "none",
   "dataSources": [
    {
     "datasetId": 5287341,
     "sourceId": 8793638,
     "sourceType": "datasetVersion"
    }
   ],
   "dockerImageVersionId": 30732,
   "isGpuEnabled": false,
   "isInternetEnabled": true,
   "language": "python",
   "sourceType": "notebook"
  },
  "kernelspec": {
   "display_name": "Python 3",
   "language": "python",
   "name": "python3"
  },
  "language_info": {
   "codemirror_mode": {
    "name": "ipython",
    "version": 3
   },
   "file_extension": ".py",
   "mimetype": "text/x-python",
   "name": "python",
   "nbconvert_exporter": "python",
   "pygments_lexer": "ipython3",
   "version": "3.10.13"
  },
  "papermill": {
   "default_parameters": {},
   "duration": 102.430725,
   "end_time": "2024-06-27T04:55:40.892807",
   "environment_variables": {},
   "exception": null,
   "input_path": "__notebook__.ipynb",
   "output_path": "__notebook__.ipynb",
   "parameters": {},
   "start_time": "2024-06-27T04:53:58.462082",
   "version": "2.5.0"
  }
 },
 "nbformat": 4,
 "nbformat_minor": 5
}
