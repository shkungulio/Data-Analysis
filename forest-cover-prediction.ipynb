{
 "cells": [
  {
   "cell_type": "markdown",
   "id": "51ce0876",
   "metadata": {
    "papermill": {
     "duration": 0.005172,
     "end_time": "2024-06-26T13:59:38.145936",
     "exception": false,
     "start_time": "2024-06-26T13:59:38.140764",
     "status": "completed"
    },
    "tags": []
   },
   "source": [
    "# **Forest Cover Prediction Analysis**"
   ]
  },
  {
   "cell_type": "markdown",
   "id": "2670824e",
   "metadata": {
    "papermill": {
     "duration": 0.004391,
     "end_time": "2024-06-26T13:59:38.155300",
     "exception": false,
     "start_time": "2024-06-26T13:59:38.150909",
     "status": "completed"
    },
    "tags": []
   },
   "source": [
    "This project involves a comprehensive analysis and modeling process, utilizing various machine learning techniques to predict forest cover types based on cartographic information. Each part of the project builds upon the previous steps, culminating in the creation and evaluation of a robust predictive model."
   ]
  },
  {
   "cell_type": "code",
   "execution_count": 1,
   "id": "5a051f40",
   "metadata": {
    "_cell_guid": "b1076dfc-b9ad-4769-8c92-a6c4dae69d19",
    "_uuid": "8f2839f25d086af736a60e9eeb907d3b93b6e0e5",
    "execution": {
     "iopub.execute_input": "2024-06-26T13:59:38.166711Z",
     "iopub.status.busy": "2024-06-26T13:59:38.166228Z",
     "iopub.status.idle": "2024-06-26T13:59:41.293479Z",
     "shell.execute_reply": "2024-06-26T13:59:41.291607Z"
    },
    "papermill": {
     "duration": 3.137154,
     "end_time": "2024-06-26T13:59:41.297183",
     "exception": false,
     "start_time": "2024-06-26T13:59:38.160029",
     "status": "completed"
    },
    "tags": []
   },
   "outputs": [],
   "source": [
    "# Import necessary packages\n",
    "\n",
    "import numpy as np \n",
    "import pandas as pd \n",
    "import matplotlib.pyplot as plt\n",
    "from sklearn.model_selection import train_test_split\n",
    "from sklearn.preprocessing import OneHotEncoder\n",
    "from sklearn.linear_model import LogisticRegression\n",
    "from sklearn.tree import DecisionTreeClassifier\n",
    "from sklearn.ensemble import RandomForestClassifier\n",
    "from sklearn.metrics import classification_report, confusion_matrix"
   ]
  },
  {
   "cell_type": "markdown",
   "id": "b957fbd1",
   "metadata": {
    "papermill": {
     "duration": 0.004887,
     "end_time": "2024-06-26T13:59:41.307300",
     "exception": false,
     "start_time": "2024-06-26T13:59:41.302413",
     "status": "completed"
    },
    "tags": []
   },
   "source": [
    "## Loading Data; Preliminary Analysis"
   ]
  },
  {
   "cell_type": "code",
   "execution_count": 2,
   "id": "928fabb4",
   "metadata": {
    "execution": {
     "iopub.execute_input": "2024-06-26T13:59:41.319718Z",
     "iopub.status.busy": "2024-06-26T13:59:41.319075Z",
     "iopub.status.idle": "2024-06-26T13:59:41.414692Z",
     "shell.execute_reply": "2024-06-26T13:59:41.413191Z"
    },
    "papermill": {
     "duration": 0.105245,
     "end_time": "2024-06-26T13:59:41.417642",
     "exception": false,
     "start_time": "2024-06-26T13:59:41.312397",
     "status": "completed"
    },
    "tags": []
   },
   "outputs": [
    {
     "data": {
      "text/html": [
       "<div>\n",
       "<style scoped>\n",
       "    .dataframe tbody tr th:only-of-type {\n",
       "        vertical-align: middle;\n",
       "    }\n",
       "\n",
       "    .dataframe tbody tr th {\n",
       "        vertical-align: top;\n",
       "    }\n",
       "\n",
       "    .dataframe thead th {\n",
       "        text-align: right;\n",
       "    }\n",
       "</style>\n",
       "<table border=\"1\" class=\"dataframe\">\n",
       "  <thead>\n",
       "    <tr style=\"text-align: right;\">\n",
       "      <th></th>\n",
       "      <th>Elevation</th>\n",
       "      <th>Aspect</th>\n",
       "      <th>Slope</th>\n",
       "      <th>Horizontal_Distance_To_Hydrology</th>\n",
       "      <th>Vertical_Distance_To_Hydrology</th>\n",
       "      <th>Horizontal_Distance_To_Roadways</th>\n",
       "      <th>Hillshade_9am</th>\n",
       "      <th>Hillshade_Noon</th>\n",
       "      <th>Hillshade_3pm</th>\n",
       "      <th>Horizontal_Distance_To_Fire_Points</th>\n",
       "      <th>Wilderness_Area</th>\n",
       "      <th>Soil_Type</th>\n",
       "      <th>Cover_Type</th>\n",
       "    </tr>\n",
       "  </thead>\n",
       "  <tbody>\n",
       "    <tr>\n",
       "      <th>0</th>\n",
       "      <td>2596</td>\n",
       "      <td>51</td>\n",
       "      <td>3</td>\n",
       "      <td>258</td>\n",
       "      <td>0</td>\n",
       "      <td>510</td>\n",
       "      <td>221</td>\n",
       "      <td>232</td>\n",
       "      <td>148</td>\n",
       "      <td>6279</td>\n",
       "      <td>Rawah</td>\n",
       "      <td>29</td>\n",
       "      <td>5</td>\n",
       "    </tr>\n",
       "    <tr>\n",
       "      <th>1</th>\n",
       "      <td>2590</td>\n",
       "      <td>56</td>\n",
       "      <td>2</td>\n",
       "      <td>212</td>\n",
       "      <td>-6</td>\n",
       "      <td>390</td>\n",
       "      <td>220</td>\n",
       "      <td>235</td>\n",
       "      <td>151</td>\n",
       "      <td>6225</td>\n",
       "      <td>Rawah</td>\n",
       "      <td>29</td>\n",
       "      <td>5</td>\n",
       "    </tr>\n",
       "    <tr>\n",
       "      <th>2</th>\n",
       "      <td>2804</td>\n",
       "      <td>139</td>\n",
       "      <td>9</td>\n",
       "      <td>268</td>\n",
       "      <td>65</td>\n",
       "      <td>3180</td>\n",
       "      <td>234</td>\n",
       "      <td>238</td>\n",
       "      <td>135</td>\n",
       "      <td>6121</td>\n",
       "      <td>Rawah</td>\n",
       "      <td>12</td>\n",
       "      <td>2</td>\n",
       "    </tr>\n",
       "    <tr>\n",
       "      <th>3</th>\n",
       "      <td>2785</td>\n",
       "      <td>155</td>\n",
       "      <td>18</td>\n",
       "      <td>242</td>\n",
       "      <td>118</td>\n",
       "      <td>3090</td>\n",
       "      <td>238</td>\n",
       "      <td>238</td>\n",
       "      <td>122</td>\n",
       "      <td>6211</td>\n",
       "      <td>Rawah</td>\n",
       "      <td>30</td>\n",
       "      <td>2</td>\n",
       "    </tr>\n",
       "    <tr>\n",
       "      <th>4</th>\n",
       "      <td>2595</td>\n",
       "      <td>45</td>\n",
       "      <td>2</td>\n",
       "      <td>153</td>\n",
       "      <td>-1</td>\n",
       "      <td>391</td>\n",
       "      <td>220</td>\n",
       "      <td>234</td>\n",
       "      <td>150</td>\n",
       "      <td>6172</td>\n",
       "      <td>Rawah</td>\n",
       "      <td>29</td>\n",
       "      <td>5</td>\n",
       "    </tr>\n",
       "  </tbody>\n",
       "</table>\n",
       "</div>"
      ],
      "text/plain": [
       "   Elevation  Aspect  Slope  Horizontal_Distance_To_Hydrology  \\\n",
       "0       2596      51      3                               258   \n",
       "1       2590      56      2                               212   \n",
       "2       2804     139      9                               268   \n",
       "3       2785     155     18                               242   \n",
       "4       2595      45      2                               153   \n",
       "\n",
       "   Vertical_Distance_To_Hydrology  Horizontal_Distance_To_Roadways  \\\n",
       "0                               0                              510   \n",
       "1                              -6                              390   \n",
       "2                              65                             3180   \n",
       "3                             118                             3090   \n",
       "4                              -1                              391   \n",
       "\n",
       "   Hillshade_9am  Hillshade_Noon  Hillshade_3pm  \\\n",
       "0            221             232            148   \n",
       "1            220             235            151   \n",
       "2            234             238            135   \n",
       "3            238             238            122   \n",
       "4            220             234            150   \n",
       "\n",
       "   Horizontal_Distance_To_Fire_Points Wilderness_Area  Soil_Type  Cover_Type  \n",
       "0                                6279           Rawah         29           5  \n",
       "1                                6225           Rawah         29           5  \n",
       "2                                6121           Rawah         12           2  \n",
       "3                                6211           Rawah         30           2  \n",
       "4                                6172           Rawah         29           5  "
      ]
     },
     "execution_count": 2,
     "metadata": {},
     "output_type": "execute_result"
    }
   ],
   "source": [
    "# Load the dataset into a DataFrame\n",
    "fc = pd.read_csv('../input/forest-cover/forest_cover.txt', delimiter='\\t')\n",
    "\n",
    "# Display the first 5 rows of the DataFrame\n",
    "fc.head()"
   ]
  },
  {
   "cell_type": "code",
   "execution_count": 3,
   "id": "13dd4d7d",
   "metadata": {
    "execution": {
     "iopub.execute_input": "2024-06-26T13:59:41.429746Z",
     "iopub.status.busy": "2024-06-26T13:59:41.429289Z",
     "iopub.status.idle": "2024-06-26T13:59:41.435247Z",
     "shell.execute_reply": "2024-06-26T13:59:41.434068Z"
    },
    "papermill": {
     "duration": 0.015361,
     "end_time": "2024-06-26T13:59:41.438241",
     "exception": false,
     "start_time": "2024-06-26T13:59:41.422880",
     "status": "completed"
    },
    "tags": []
   },
   "outputs": [
    {
     "name": "stdout",
     "output_type": "stream",
     "text": [
      "Shape of fc DataFrame: (15120, 13)\n"
     ]
    }
   ],
   "source": [
    "# Print the shape of the DataFrame\n",
    "print(\"Shape of fc DataFrame:\", fc.shape)"
   ]
  },
  {
   "cell_type": "code",
   "execution_count": 4,
   "id": "67a559c9",
   "metadata": {
    "execution": {
     "iopub.execute_input": "2024-06-26T13:59:41.450576Z",
     "iopub.status.busy": "2024-06-26T13:59:41.450164Z",
     "iopub.status.idle": "2024-06-26T13:59:41.472315Z",
     "shell.execute_reply": "2024-06-26T13:59:41.471118Z"
    },
    "papermill": {
     "duration": 0.031128,
     "end_time": "2024-06-26T13:59:41.474713",
     "exception": false,
     "start_time": "2024-06-26T13:59:41.443585",
     "status": "completed"
    },
    "tags": []
   },
   "outputs": [
    {
     "data": {
      "text/plain": [
       "Cover_Type\n",
       "1    2160\n",
       "2    2160\n",
       "3    2160\n",
       "4    2160\n",
       "5    2160\n",
       "6    2160\n",
       "7    2160\n",
       "Name: count, dtype: int64"
      ]
     },
     "execution_count": 4,
     "metadata": {},
     "output_type": "execute_result"
    }
   ],
   "source": [
    "# Display the distribution of cover types\n",
    "fc['Cover_Type'].value_counts().sort_index()"
   ]
  },
  {
   "cell_type": "code",
   "execution_count": 5,
   "id": "3c6a87bb",
   "metadata": {
    "execution": {
     "iopub.execute_input": "2024-06-26T13:59:41.487195Z",
     "iopub.status.busy": "2024-06-26T13:59:41.486805Z",
     "iopub.status.idle": "2024-06-26T13:59:41.492426Z",
     "shell.execute_reply": "2024-06-26T13:59:41.491261Z"
    },
    "papermill": {
     "duration": 0.014824,
     "end_time": "2024-06-26T13:59:41.494891",
     "exception": false,
     "start_time": "2024-06-26T13:59:41.480067",
     "status": "completed"
    },
    "tags": []
   },
   "outputs": [],
   "source": [
    "# Create a list named palette containing seven named colors\n",
    "palette = ['orchid', 'lightcoral', 'orange', 'gold', 'lightgreen', 'deepskyblue', 'cornflowerblue']"
   ]
  },
  {
   "cell_type": "markdown",
   "id": "df0b28d1",
   "metadata": {
    "papermill": {
     "duration": 0.005272,
     "end_time": "2024-06-26T13:59:41.506427",
     "exception": false,
     "start_time": "2024-06-26T13:59:41.501155",
     "status": "completed"
    },
    "tags": []
   },
   "source": [
    "## Distribution of Cover Type by Wilderness Area\n",
    "\n",
    "In this section, I will explore the relationship between cover type and wilderness area. I will start by determining the distribution of the wilderness areas within the dataset."
   ]
  },
  {
   "cell_type": "code",
   "execution_count": 6,
   "id": "ea501c4a",
   "metadata": {
    "execution": {
     "iopub.execute_input": "2024-06-26T13:59:41.519508Z",
     "iopub.status.busy": "2024-06-26T13:59:41.518607Z",
     "iopub.status.idle": "2024-06-26T13:59:41.532775Z",
     "shell.execute_reply": "2024-06-26T13:59:41.531569Z"
    },
    "papermill": {
     "duration": 0.023397,
     "end_time": "2024-06-26T13:59:41.535307",
     "exception": false,
     "start_time": "2024-06-26T13:59:41.511910",
     "status": "completed"
    },
    "tags": []
   },
   "outputs": [
    {
     "data": {
      "text/plain": [
       "Wilderness_Area\n",
       "Cache la Poudre    4675\n",
       "Comanche Peak      6349\n",
       "Neota               499\n",
       "Rawah              3597\n",
       "Name: count, dtype: int64"
      ]
     },
     "execution_count": 6,
     "metadata": {},
     "output_type": "execute_result"
    }
   ],
   "source": [
    "# Display the distribution of wilderness areas within the dataset\n",
    "wilderness_area_distribution = fc['Wilderness_Area'].value_counts().sort_index()\n",
    "wilderness_area_distribution"
   ]
  },
  {
   "cell_type": "code",
   "execution_count": 7,
   "id": "43bd948e",
   "metadata": {
    "execution": {
     "iopub.execute_input": "2024-06-26T13:59:41.548129Z",
     "iopub.status.busy": "2024-06-26T13:59:41.547712Z",
     "iopub.status.idle": "2024-06-26T13:59:41.584010Z",
     "shell.execute_reply": "2024-06-26T13:59:41.582838Z"
    },
    "papermill": {
     "duration": 0.045729,
     "end_time": "2024-06-26T13:59:41.586590",
     "exception": false,
     "start_time": "2024-06-26T13:59:41.540861",
     "status": "completed"
    },
    "tags": []
   },
   "outputs": [
    {
     "data": {
      "text/html": [
       "<div>\n",
       "<style scoped>\n",
       "    .dataframe tbody tr th:only-of-type {\n",
       "        vertical-align: middle;\n",
       "    }\n",
       "\n",
       "    .dataframe tbody tr th {\n",
       "        vertical-align: top;\n",
       "    }\n",
       "\n",
       "    .dataframe thead th {\n",
       "        text-align: right;\n",
       "    }\n",
       "</style>\n",
       "<table border=\"1\" class=\"dataframe\">\n",
       "  <thead>\n",
       "    <tr style=\"text-align: right;\">\n",
       "      <th>Wilderness_Area</th>\n",
       "      <th>Cache la Poudre</th>\n",
       "      <th>Comanche Peak</th>\n",
       "      <th>Neota</th>\n",
       "      <th>Rawah</th>\n",
       "    </tr>\n",
       "    <tr>\n",
       "      <th>Cover_Type</th>\n",
       "      <th></th>\n",
       "      <th></th>\n",
       "      <th></th>\n",
       "      <th></th>\n",
       "    </tr>\n",
       "  </thead>\n",
       "  <tbody>\n",
       "    <tr>\n",
       "      <th>1</th>\n",
       "      <td>0</td>\n",
       "      <td>917</td>\n",
       "      <td>181</td>\n",
       "      <td>1062</td>\n",
       "    </tr>\n",
       "    <tr>\n",
       "      <th>2</th>\n",
       "      <td>20</td>\n",
       "      <td>940</td>\n",
       "      <td>66</td>\n",
       "      <td>1134</td>\n",
       "    </tr>\n",
       "    <tr>\n",
       "      <th>3</th>\n",
       "      <td>1297</td>\n",
       "      <td>863</td>\n",
       "      <td>0</td>\n",
       "      <td>0</td>\n",
       "    </tr>\n",
       "    <tr>\n",
       "      <th>4</th>\n",
       "      <td>2160</td>\n",
       "      <td>0</td>\n",
       "      <td>0</td>\n",
       "      <td>0</td>\n",
       "    </tr>\n",
       "    <tr>\n",
       "      <th>5</th>\n",
       "      <td>0</td>\n",
       "      <td>1304</td>\n",
       "      <td>0</td>\n",
       "      <td>856</td>\n",
       "    </tr>\n",
       "    <tr>\n",
       "      <th>6</th>\n",
       "      <td>1198</td>\n",
       "      <td>962</td>\n",
       "      <td>0</td>\n",
       "      <td>0</td>\n",
       "    </tr>\n",
       "    <tr>\n",
       "      <th>7</th>\n",
       "      <td>0</td>\n",
       "      <td>1363</td>\n",
       "      <td>252</td>\n",
       "      <td>545</td>\n",
       "    </tr>\n",
       "  </tbody>\n",
       "</table>\n",
       "</div>"
      ],
      "text/plain": [
       "Wilderness_Area  Cache la Poudre  Comanche Peak  Neota  Rawah\n",
       "Cover_Type                                                   \n",
       "1                              0            917    181   1062\n",
       "2                             20            940     66   1134\n",
       "3                           1297            863      0      0\n",
       "4                           2160              0      0      0\n",
       "5                              0           1304      0    856\n",
       "6                           1198            962      0      0\n",
       "7                              0           1363    252    545"
      ]
     },
     "execution_count": 7,
     "metadata": {},
     "output_type": "execute_result"
    }
   ],
   "source": [
    "# Create a DataFrame to count the number of regions of each cover type in each of the four wilderness areas\n",
    "ct_by_wa = pd.crosstab(fc['Cover_Type'], fc['Wilderness_Area'])\n",
    "ct_by_wa"
   ]
  },
  {
   "cell_type": "code",
   "execution_count": 8,
   "id": "e829929e",
   "metadata": {
    "execution": {
     "iopub.execute_input": "2024-06-26T13:59:41.600096Z",
     "iopub.status.busy": "2024-06-26T13:59:41.599702Z",
     "iopub.status.idle": "2024-06-26T13:59:42.045112Z",
     "shell.execute_reply": "2024-06-26T13:59:42.043746Z"
    },
    "papermill": {
     "duration": 0.456046,
     "end_time": "2024-06-26T13:59:42.048555",
     "exception": false,
     "start_time": "2024-06-26T13:59:41.592509",
     "status": "completed"
    },
    "tags": []
   },
   "outputs": [
    {
     "data": {
      "image/png": "[encoded data removed]",
      "text/plain": [
       "<Figure size 800x400 with 1 Axes>"
      ]
     },
     "metadata": {},
     "output_type": "display_data"
    }
   ],
   "source": [
    "# Convert the count information into proportions\n",
    "ct_by_wa_props = ct_by_wa.div(ct_by_wa.sum(axis=0), axis=1)\n",
    "\n",
    "# Calculate the bottom of each bar\n",
    "bb = np.cumsum(ct_by_wa_props, axis=0) - ct_by_wa_props\n",
    "\n",
    "# Create a Matplotlib figure\n",
    "plt.figure(figsize=[8, 4])\n",
    "\n",
    "# Define the color palette for the bars\n",
    "palette = plt.get_cmap('tab10').colors\n",
    "\n",
    "# Loop over the rows of ct_by_wa_props to create a stacked bar chart\n",
    "for i, (index, row) in enumerate(ct_by_wa_props.iterrows()):\n",
    "    plt.bar(ct_by_wa.columns, row, bottom=bb.loc[index], edgecolor='black', color=palette[i], label=f'Cover Type {index}')\n",
    "\n",
    "# Set labels for the x and y axes and the title\n",
    "plt.xlabel('Wilderness Area')\n",
    "plt.ylabel('Proportion')\n",
    "plt.title('Distribution of Cover Type by Wilderness Area')\n",
    "\n",
    "# Add a legend to the plot\n",
    "plt.legend(bbox_to_anchor=(1.05, 1), loc='upper left')\n",
    "\n",
    "# Display the figure\n",
    "plt.show()"
   ]
  }
 ],
 "metadata": {
  "kaggle": {
   "accelerator": "none",
   "dataSources": [
    {
     "datasetId": 5287341,
     "sourceId": 8793638,
     "sourceType": "datasetVersion"
    }
   ],
   "dockerImageVersionId": 30732,
   "isGpuEnabled": false,
   "isInternetEnabled": true,
   "language": "python",
   "sourceType": "notebook"
  },
  "kernelspec": {
   "display_name": "Python 3",
   "language": "python",
   "name": "python3"
  },
  "language_info": {
   "codemirror_mode": {
    "name": "ipython",
    "version": 3
   },
   "file_extension": ".py",
   "mimetype": "text/x-python",
   "name": "python",
   "nbconvert_exporter": "python",
   "pygments_lexer": "ipython3",
   "version": "3.10.13"
  },
  "papermill": {
   "default_parameters": {},
   "duration": 7.966625,
   "end_time": "2024-06-26T13:59:42.781488",
   "environment_variables": {},
   "exception": null,
   "input_path": "__notebook__.ipynb",
   "output_path": "__notebook__.ipynb",
   "parameters": {},
   "start_time": "2024-06-26T13:59:34.814863",
   "version": "2.5.0"
  }
 },
 "nbformat": 4,
 "nbformat_minor": 5
}
